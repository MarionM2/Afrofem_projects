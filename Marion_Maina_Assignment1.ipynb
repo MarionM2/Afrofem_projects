{
  "nbformat": 4,
  "nbformat_minor": 0,
  "metadata": {
    "colab": {
      "provenance": [],
      "mount_file_id": "1kfeKfZBpw2-cOWVOFolbWwNV3eYPmm3O",
      "authorship_tag": "ABX9TyO6bsTQ53QxDZOJ5+EjKcTd",
      "include_colab_link": true
    },
    "kernelspec": {
      "name": "python3",
      "display_name": "Python 3"
    },
    "language_info": {
      "name": "python"
    }
  },
  "cells": [
    {
      "cell_type": "markdown",
      "metadata": {
        "id": "view-in-github",
        "colab_type": "text"
      },
      "source": [
        "<a href=\"https://colab.research.google.com/github/MarionM2/Afrofem_projects/blob/main/Marion_Maina_Assignment1.ipynb\" target=\"_parent\"><img src=\"https://colab.research.google.com/assets/colab-badge.svg\" alt=\"Open In Colab\"/></a>"
      ]
    },
    {
      "cell_type": "code",
      "execution_count": null,
      "metadata": {
        "id": "UH918GQXWMEq"
      },
      "outputs": [],
      "source": [
        "import pandas as pd"
      ]
    },
    {
      "cell_type": "code",
      "source": [
        "data = pd.read_csv('/content/drive/MyDrive/Dataset/Arrest_Data_from_2010_to_Present.csv')"
      ],
      "metadata": {
        "colab": {
          "base_uri": "https://localhost:8080/"
        },
        "id": "i-ib5ATtWwvv",
        "outputId": "65135eae-9430-4aaa-e3e2-456fd34a9542"
      },
      "execution_count": null,
      "outputs": [
        {
          "output_type": "stream",
          "name": "stderr",
          "text": [
            "/usr/local/lib/python3.8/dist-packages/IPython/core/interactiveshell.py:3326: DtypeWarning: Columns (0) have mixed types.Specify dtype option on import or set low_memory=False.\n",
            "  exec(code_obj, self.user_global_ns, self.user_ns)\n"
          ]
        }
      ]
    },
    {
      "cell_type": "code",
      "source": [
        "from google.colab import drive\n",
        "drive.mount('/content/drive')"
      ],
      "metadata": {
        "colab": {
          "base_uri": "https://localhost:8080/"
        },
        "id": "1kG0TzXKWZdo",
        "outputId": "4d567fa5-a732-4f61-9bac-2a77a50cb966"
      },
      "execution_count": null,
      "outputs": [
        {
          "output_type": "stream",
          "name": "stdout",
          "text": [
            "Drive already mounted at /content/drive; to attempt to forcibly remount, call drive.mount(\"/content/drive\", force_remount=True).\n"
          ]
        }
      ]
    },
    {
      "cell_type": "code",
      "source": [
        "data.head()"
      ],
      "metadata": {
        "colab": {
          "base_uri": "https://localhost:8080/",
          "height": 409
        },
        "id": "BBw_T_c4W_uI",
        "outputId": "33dd66c5-f4c1-4bbf-bbd3-422e1e0db681"
      },
      "execution_count": null,
      "outputs": [
        {
          "output_type": "execute_result",
          "data": {
            "text/plain": [
              "   Report ID Arrest Date    Time  Area ID  Area Name  Reporting District  \\\n",
              "0    4248313  02/24/2015  1310.0     20.0    Olympic              2022.0   \n",
              "1  191811472  05/03/2019  1700.0     18.0  Southeast              1802.0   \n",
              "2    4254777  02/26/2015  2010.0     19.0    Mission              1985.0   \n",
              "3    5614161  04/29/2019  1040.0      8.0    West LA               842.0   \n",
              "4    5615197  04/30/2019   615.0      6.0  Hollywood               663.0   \n",
              "\n",
              "    Age Sex Code Descent Code  Charge Group Code Charge Group Description  \\\n",
              "0  37.0        M            H                5.0                 Burglary   \n",
              "1  23.0        F            B                NaN                      NaN   \n",
              "2  22.0        M            H                6.0                  Larceny   \n",
              "3  41.0        M            H                3.0                  Robbery   \n",
              "4  27.0        M            O                5.0                 Burglary   \n",
              "\n",
              "  Arrest Type Code     Charge Charge Description  \\\n",
              "0                F      459PC           BURGLARY   \n",
              "1                M  653.22 PC                NaN   \n",
              "2                M    459.5PC        SHOPLIFTING   \n",
              "3                F      211PC            ROBBERY   \n",
              "4                F      459PC           BURGLARY   \n",
              "\n",
              "                                    Address Cross Street              Location  \n",
              "0                                       5TH       WILTON   (34.0653, -118.314)  \n",
              "1                                      91ST     FIGUEROA  (33.9543, -118.2827)  \n",
              "2   8300    VAN NUYS                     BL          NaN  (34.2216, -118.4488)  \n",
              "3  11600    WILSHIRE                     BL          NaN  (34.0508, -118.4592)  \n",
              "4                                   LA BREA    LEXINGTON  (34.0907, -118.3384)  "
            ],
            "text/html": [
              "\n",
              "  <div id=\"df-347795e9-425e-4100-bfcb-ab99b66e0574\">\n",
              "    <div class=\"colab-df-container\">\n",
              "      <div>\n",
              "<style scoped>\n",
              "    .dataframe tbody tr th:only-of-type {\n",
              "        vertical-align: middle;\n",
              "    }\n",
              "\n",
              "    .dataframe tbody tr th {\n",
              "        vertical-align: top;\n",
              "    }\n",
              "\n",
              "    .dataframe thead th {\n",
              "        text-align: right;\n",
              "    }\n",
              "</style>\n",
              "<table border=\"1\" class=\"dataframe\">\n",
              "  <thead>\n",
              "    <tr style=\"text-align: right;\">\n",
              "      <th></th>\n",
              "      <th>Report ID</th>\n",
              "      <th>Arrest Date</th>\n",
              "      <th>Time</th>\n",
              "      <th>Area ID</th>\n",
              "      <th>Area Name</th>\n",
              "      <th>Reporting District</th>\n",
              "      <th>Age</th>\n",
              "      <th>Sex Code</th>\n",
              "      <th>Descent Code</th>\n",
              "      <th>Charge Group Code</th>\n",
              "      <th>Charge Group Description</th>\n",
              "      <th>Arrest Type Code</th>\n",
              "      <th>Charge</th>\n",
              "      <th>Charge Description</th>\n",
              "      <th>Address</th>\n",
              "      <th>Cross Street</th>\n",
              "      <th>Location</th>\n",
              "    </tr>\n",
              "  </thead>\n",
              "  <tbody>\n",
              "    <tr>\n",
              "      <th>0</th>\n",
              "      <td>4248313</td>\n",
              "      <td>02/24/2015</td>\n",
              "      <td>1310.0</td>\n",
              "      <td>20.0</td>\n",
              "      <td>Olympic</td>\n",
              "      <td>2022.0</td>\n",
              "      <td>37.0</td>\n",
              "      <td>M</td>\n",
              "      <td>H</td>\n",
              "      <td>5.0</td>\n",
              "      <td>Burglary</td>\n",
              "      <td>F</td>\n",
              "      <td>459PC</td>\n",
              "      <td>BURGLARY</td>\n",
              "      <td>5TH</td>\n",
              "      <td>WILTON</td>\n",
              "      <td>(34.0653, -118.314)</td>\n",
              "    </tr>\n",
              "    <tr>\n",
              "      <th>1</th>\n",
              "      <td>191811472</td>\n",
              "      <td>05/03/2019</td>\n",
              "      <td>1700.0</td>\n",
              "      <td>18.0</td>\n",
              "      <td>Southeast</td>\n",
              "      <td>1802.0</td>\n",
              "      <td>23.0</td>\n",
              "      <td>F</td>\n",
              "      <td>B</td>\n",
              "      <td>NaN</td>\n",
              "      <td>NaN</td>\n",
              "      <td>M</td>\n",
              "      <td>653.22 PC</td>\n",
              "      <td>NaN</td>\n",
              "      <td>91ST</td>\n",
              "      <td>FIGUEROA</td>\n",
              "      <td>(33.9543, -118.2827)</td>\n",
              "    </tr>\n",
              "    <tr>\n",
              "      <th>2</th>\n",
              "      <td>4254777</td>\n",
              "      <td>02/26/2015</td>\n",
              "      <td>2010.0</td>\n",
              "      <td>19.0</td>\n",
              "      <td>Mission</td>\n",
              "      <td>1985.0</td>\n",
              "      <td>22.0</td>\n",
              "      <td>M</td>\n",
              "      <td>H</td>\n",
              "      <td>6.0</td>\n",
              "      <td>Larceny</td>\n",
              "      <td>M</td>\n",
              "      <td>459.5PC</td>\n",
              "      <td>SHOPLIFTING</td>\n",
              "      <td>8300    VAN NUYS                     BL</td>\n",
              "      <td>NaN</td>\n",
              "      <td>(34.2216, -118.4488)</td>\n",
              "    </tr>\n",
              "    <tr>\n",
              "      <th>3</th>\n",
              "      <td>5614161</td>\n",
              "      <td>04/29/2019</td>\n",
              "      <td>1040.0</td>\n",
              "      <td>8.0</td>\n",
              "      <td>West LA</td>\n",
              "      <td>842.0</td>\n",
              "      <td>41.0</td>\n",
              "      <td>M</td>\n",
              "      <td>H</td>\n",
              "      <td>3.0</td>\n",
              "      <td>Robbery</td>\n",
              "      <td>F</td>\n",
              "      <td>211PC</td>\n",
              "      <td>ROBBERY</td>\n",
              "      <td>11600    WILSHIRE                     BL</td>\n",
              "      <td>NaN</td>\n",
              "      <td>(34.0508, -118.4592)</td>\n",
              "    </tr>\n",
              "    <tr>\n",
              "      <th>4</th>\n",
              "      <td>5615197</td>\n",
              "      <td>04/30/2019</td>\n",
              "      <td>615.0</td>\n",
              "      <td>6.0</td>\n",
              "      <td>Hollywood</td>\n",
              "      <td>663.0</td>\n",
              "      <td>27.0</td>\n",
              "      <td>M</td>\n",
              "      <td>O</td>\n",
              "      <td>5.0</td>\n",
              "      <td>Burglary</td>\n",
              "      <td>F</td>\n",
              "      <td>459PC</td>\n",
              "      <td>BURGLARY</td>\n",
              "      <td>LA BREA</td>\n",
              "      <td>LEXINGTON</td>\n",
              "      <td>(34.0907, -118.3384)</td>\n",
              "    </tr>\n",
              "  </tbody>\n",
              "</table>\n",
              "</div>\n",
              "      <button class=\"colab-df-convert\" onclick=\"convertToInteractive('df-347795e9-425e-4100-bfcb-ab99b66e0574')\"\n",
              "              title=\"Convert this dataframe to an interactive table.\"\n",
              "              style=\"display:none;\">\n",
              "        \n",
              "  <svg xmlns=\"http://www.w3.org/2000/svg\" height=\"24px\"viewBox=\"0 0 24 24\"\n",
              "       width=\"24px\">\n",
              "    <path d=\"M0 0h24v24H0V0z\" fill=\"none\"/>\n",
              "    <path d=\"M18.56 5.44l.94 2.06.94-2.06 2.06-.94-2.06-.94-.94-2.06-.94 2.06-2.06.94zm-11 1L8.5 8.5l.94-2.06 2.06-.94-2.06-.94L8.5 2.5l-.94 2.06-2.06.94zm10 10l.94 2.06.94-2.06 2.06-.94-2.06-.94-.94-2.06-.94 2.06-2.06.94z\"/><path d=\"M17.41 7.96l-1.37-1.37c-.4-.4-.92-.59-1.43-.59-.52 0-1.04.2-1.43.59L10.3 9.45l-7.72 7.72c-.78.78-.78 2.05 0 2.83L4 21.41c.39.39.9.59 1.41.59.51 0 1.02-.2 1.41-.59l7.78-7.78 2.81-2.81c.8-.78.8-2.07 0-2.86zM5.41 20L4 18.59l7.72-7.72 1.47 1.35L5.41 20z\"/>\n",
              "  </svg>\n",
              "      </button>\n",
              "      \n",
              "  <style>\n",
              "    .colab-df-container {\n",
              "      display:flex;\n",
              "      flex-wrap:wrap;\n",
              "      gap: 12px;\n",
              "    }\n",
              "\n",
              "    .colab-df-convert {\n",
              "      background-color: #E8F0FE;\n",
              "      border: none;\n",
              "      border-radius: 50%;\n",
              "      cursor: pointer;\n",
              "      display: none;\n",
              "      fill: #1967D2;\n",
              "      height: 32px;\n",
              "      padding: 0 0 0 0;\n",
              "      width: 32px;\n",
              "    }\n",
              "\n",
              "    .colab-df-convert:hover {\n",
              "      background-color: #E2EBFA;\n",
              "      box-shadow: 0px 1px 2px rgba(60, 64, 67, 0.3), 0px 1px 3px 1px rgba(60, 64, 67, 0.15);\n",
              "      fill: #174EA6;\n",
              "    }\n",
              "\n",
              "    [theme=dark] .colab-df-convert {\n",
              "      background-color: #3B4455;\n",
              "      fill: #D2E3FC;\n",
              "    }\n",
              "\n",
              "    [theme=dark] .colab-df-convert:hover {\n",
              "      background-color: #434B5C;\n",
              "      box-shadow: 0px 1px 3px 1px rgba(0, 0, 0, 0.15);\n",
              "      filter: drop-shadow(0px 1px 2px rgba(0, 0, 0, 0.3));\n",
              "      fill: #FFFFFF;\n",
              "    }\n",
              "  </style>\n",
              "\n",
              "      <script>\n",
              "        const buttonEl =\n",
              "          document.querySelector('#df-347795e9-425e-4100-bfcb-ab99b66e0574 button.colab-df-convert');\n",
              "        buttonEl.style.display =\n",
              "          google.colab.kernel.accessAllowed ? 'block' : 'none';\n",
              "\n",
              "        async function convertToInteractive(key) {\n",
              "          const element = document.querySelector('#df-347795e9-425e-4100-bfcb-ab99b66e0574');\n",
              "          const dataTable =\n",
              "            await google.colab.kernel.invokeFunction('convertToInteractive',\n",
              "                                                     [key], {});\n",
              "          if (!dataTable) return;\n",
              "\n",
              "          const docLinkHtml = 'Like what you see? Visit the ' +\n",
              "            '<a target=\"_blank\" href=https://colab.research.google.com/notebooks/data_table.ipynb>data table notebook</a>'\n",
              "            + ' to learn more about interactive tables.';\n",
              "          element.innerHTML = '';\n",
              "          dataTable['output_type'] = 'display_data';\n",
              "          await google.colab.output.renderOutput(dataTable, element);\n",
              "          const docLink = document.createElement('div');\n",
              "          docLink.innerHTML = docLinkHtml;\n",
              "          element.appendChild(docLink);\n",
              "        }\n",
              "      </script>\n",
              "    </div>\n",
              "  </div>\n",
              "  "
            ]
          },
          "metadata": {},
          "execution_count": 4
        }
      ]
    },
    {
      "cell_type": "code",
      "source": [
        "columns = list(data.columns)\n",
        "print(columns)"
      ],
      "metadata": {
        "colab": {
          "base_uri": "https://localhost:8080/"
        },
        "id": "hRdV1eZ6cnVC",
        "outputId": "be191baf-7f4f-4ecd-8390-6976163cb2ae"
      },
      "execution_count": null,
      "outputs": [
        {
          "output_type": "stream",
          "name": "stdout",
          "text": [
            "['Report ID', 'Arrest Date', 'Time', 'Area ID', 'Area Name', 'Reporting District', 'Age', 'Sex Code', 'Descent Code', 'Charge Group Code', 'Charge Group Description', 'Arrest Type Code', 'Charge', 'Charge Description', 'Address', 'Cross Street', 'Location']\n"
          ]
        }
      ]
    },
    {
      "cell_type": "code",
      "source": [
        "print(\"Column datatypes: \")\n",
        "print(data.dtypes)"
      ],
      "metadata": {
        "colab": {
          "base_uri": "https://localhost:8080/"
        },
        "id": "O7FqSLFQeO9v",
        "outputId": "ae1fbbb5-9d17-4e84-cce4-d79683f2e9f4"
      },
      "execution_count": null,
      "outputs": [
        {
          "output_type": "stream",
          "name": "stdout",
          "text": [
            "Column datatypes: \n",
            "Report ID                    object\n",
            "Arrest Date                  object\n",
            "Time                        float64\n",
            "Area ID                     float64\n",
            "Area Name                    object\n",
            "Reporting District          float64\n",
            "Age                         float64\n",
            "Sex Code                     object\n",
            "Descent Code                 object\n",
            "Charge Group Code           float64\n",
            "Charge Group Description     object\n",
            "Arrest Type Code             object\n",
            "Charge                       object\n",
            "Charge Description           object\n",
            "Address                      object\n",
            "Cross Street                 object\n",
            "Location                     object\n",
            "dtype: object\n"
          ]
        }
      ]
    },
    {
      "cell_type": "markdown",
      "source": [
        "1.How many bookings of arrestees were made in 2018? [5]"
      ],
      "metadata": {
        "id": "Nj_-bMfrhRQp"
      }
    },
    {
      "cell_type": "code",
      "source": [
        "data['Arrest Date'] = pd.to_datetime(data['Arrest Date'])\n",
        "data['Year'] = data['Arrest Date'].dt.strftime('%Y')\n"
      ],
      "metadata": {
        "id": "X-yEyvgZf4EJ"
      },
      "execution_count": null,
      "outputs": []
    },
    {
      "cell_type": "code",
      "source": [
        "year= \"2018\"\n",
        "num_arrests = (data[data['Year']== year])\n",
        "print(\"The number of arrests in\", year,\":\",len(num_arrests))\n"
      ],
      "metadata": {
        "colab": {
          "base_uri": "https://localhost:8080/"
        },
        "id": "-_IyMvMchLC7",
        "outputId": "9ef19c62-8333-47e8-b933-ce9fe852268c"
      },
      "execution_count": null,
      "outputs": [
        {
          "output_type": "stream",
          "name": "stdout",
          "text": [
            "The number of arrests in 2018 : 42381\n"
          ]
        }
      ]
    },
    {
      "cell_type": "markdown",
      "source": [
        "2. How many bookings of arrestees were made in each area and which area has the most arrests in 2018?[5]"
      ],
      "metadata": {
        "id": "R82GSD2kkoTt"
      }
    },
    {
      "cell_type": "code",
      "source": [
        "arrest_area =  num_arrests['Area Name'].value_counts()\n",
        "print(\" The following are the number of bookings of arrestees in each area\")\n",
        "print(\"\\n\")\n",
        "print(arrest_area)\n",
        "most_arrests = arrest_area.index[0]\n",
        "print(\"\\n\")\n",
        "print(\"Most arrests in 2018:\")\n",
        "print(most_arrests)\n",
        "num_arrests = data[data['Year']==\"2018\"]\n",
        "print(len(num_arrests))"
      ],
      "metadata": {
        "colab": {
          "base_uri": "https://localhost:8080/"
        },
        "id": "JgaWnHx2ms1u",
        "outputId": "13c594a9-5509-491f-a6a7-7f39e2191904"
      },
      "execution_count": null,
      "outputs": [
        {
          "output_type": "stream",
          "name": "stdout",
          "text": [
            " The following are the number of bookings of arrestees in each area\n",
            "\n",
            "\n",
            "Central        5621\n",
            "Hollywood      5378\n",
            "Rampart        4243\n",
            "Pacific        3545\n",
            "Van Nuys       2332\n",
            "N Hollywood    2052\n",
            "Southwest      1768\n",
            "Mission        1701\n",
            "Newton         1638\n",
            "Harbor         1628\n",
            "Northeast      1579\n",
            "77th Street    1457\n",
            "West LA        1415\n",
            "Olympic        1350\n",
            "Devonshire     1336\n",
            "Topanga        1208\n",
            "Hollenbeck      995\n",
            "West Valley     955\n",
            "Foothill        801\n",
            "Southeast       764\n",
            "Wilshire        615\n",
            "Name: Area Name, dtype: int64\n",
            "\n",
            "\n",
            "Most arrests in 2018:\n",
            "Central\n",
            "42381\n"
          ]
        }
      ]
    },
    {
      "cell_type": "markdown",
      "source": [
        "3.There are differences between the average age of an arrestee for the various charge groups. Find the average age of arrestees per each charge group.Only consider data for 2018 Do not consider \"Pre-Delinquency\" and \"Non-Criminal.Detention\" as these charge groups are reserved for minors\n",
        "Exclude any arrests where the charge group description is not known"
      ],
      "metadata": {
        "id": "vkRBJe8OSR0h"
      }
    },
    {
      "cell_type": "code",
      "source": [
        "data_0 = data[(data['Year']==\"2018\") & (data['Charge Group Description'] != 'UNKNOWN')]\n",
        "data_0 = data_0[~data_0['Charge Group Description'].isin(['Pre-Delinquency', 'Non-Criminal Detention'])]\n",
        "avg_age = data_0.groupby('Charge Group Description')['Age'].mean()\n",
        "print(\"The Average age of arrestees per each group is:\")\n",
        "print(\" \")\n",
        "print(avg_age)"
      ],
      "metadata": {
        "colab": {
          "base_uri": "https://localhost:8080/"
        },
        "id": "ZrCNQwg4S8Rh",
        "outputId": "e7eb59fe-ecec-4cf9-da75-392e767a2525"
      },
      "execution_count": null,
      "outputs": [
        {
          "output_type": "stream",
          "name": "stdout",
          "text": [
            "The Average age of arrestees per each group is:\n",
            " \n",
            "Charge Group Description\n",
            "Against Family/Child              36.950355\n",
            "Aggravated Assault                33.907359\n",
            "Burglary                          30.366755\n",
            "Disorderly Conduct                41.924290\n",
            "Disturbing the Peace              39.727273\n",
            "Driving Under Influence           34.428291\n",
            "Drunkeness                        44.219972\n",
            "Federal Offenses                  34.600000\n",
            "Forgery/Counterfeit               35.066667\n",
            "Fraud/Embezzlement                35.689076\n",
            "Gambling                          40.557047\n",
            "Homicide                          30.896552\n",
            "Larceny                           32.725796\n",
            "Liquor Laws                       42.540955\n",
            "Miscellaneous Other Violations    36.252076\n",
            "Miscellaneous Other Violatio{     17.000000\n",
            "Moving Traffic Violations         33.085622\n",
            "Narcotic Drug Laws                36.097954\n",
            "Other Assaults                    33.451139\n",
            "Prostitution/Allied               31.620470\n",
            "Rape                              36.203704\n",
            "Receive Stolen Property           33.687500\n",
            "Robbery                           27.538739\n",
            "Sex (except rape/prst)            36.555838\n",
            "Vehicle Theft                     30.095624\n",
            "Weapon (carry/poss)               29.477178\n",
            "Name: Age, dtype: float64\n"
          ]
        }
      ]
    },
    {
      "cell_type": "markdown",
      "source": [
        "4.What is the 95% quantile of the age of the arrestee in 2018? Only consider the following charge groups for your analysis:Vehicle Theft Robbery Burglary Receive Stolen Property"
      ],
      "metadata": {
        "id": "hXHN6O5QT2Fj"
      }
    },
    {
      "cell_type": "code",
      "source": [
        "data_1= data[(data['Year']==\"2018\") & data['Charge Group Description'].isin(['Vehicle Theft', 'Robbery', 'Burglary', 'Receive Stolen Property'])]\n",
        "age_percentile = data_1['Age'].quantile(0.95)\n",
        "print(\"The 95% of Arrestee Age :\", age_percentile)\n"
      ],
      "metadata": {
        "colab": {
          "base_uri": "https://localhost:8080/"
        },
        "id": "cbXYjoftT-4A",
        "outputId": "b676e249-37b6-411f-9367-4f8e17372571"
      },
      "execution_count": null,
      "outputs": [
        {
          "output_type": "stream",
          "name": "stdout",
          "text": [
            "The 95% of Arrestee Age : 52.0\n"
          ]
        }
      ]
    },
    {
      "cell_type": "markdown",
      "source": [
        "5.Crime arrest incidents have been dropping over the years. Using a linear regression for the data from 2010 and 2018 (inclusive), predict number of crime arrests in 2019? Round to the nearest integer. Note, the data set includes arrests for misdemeanor, felonies, etc.                                              "
      ],
      "metadata": {
        "id": "dmmGAz9sUU9a"
      }
    },
    {
      "cell_type": "code",
      "source": [
        "from sklearn.linear_model import LinearRegression\n",
        "\n",
        "data_yearly = data[(data['Year']>=\"2010\")&(data['Year']<=\"2018\")]\n",
        "arrests_by_year = data_yearly.groupby('Year').size().reset_index(name='Count')\n",
        "\n",
        "model = LinearRegression()\n",
        "model.fit(arrests_by_year[['Year']].values, arrests_by_year['Count'])\n",
        "predicted_arrests = model.predict([[2019]])\n",
        "rounded_predicted_arrests = int(round(predicted_arrests[0]))\n",
        "\n",
        "print(\"Predicted Number of Arrests in 2019:\", rounded_predicted_arrests)"
      ],
      "metadata": {
        "colab": {
          "base_uri": "https://localhost:8080/"
        },
        "id": "N_Dbk2xCUeY7",
        "outputId": "3bd4707c-5695-4e8b-c03a-03de6abd2ce6"
      },
      "execution_count": null,
      "outputs": [
        {
          "output_type": "stream",
          "name": "stdout",
          "text": [
            "Predicted Number of Arrests in 2019: 67723\n"
          ]
        }
      ]
    },
    {
      "cell_type": "markdown",
      "source": [
        "6.How many arrest incidents occurred within 2 km from the Bradbury Building in 2018? Use (34.050536, -118.247861) for the coordinates of the Bradbury Building . For simplicity, please use the spherical Earth projected to a plane equation for calculating distances. Use the radius of the Earth as 6371 km. Note, some arrest records are missing location data and the location is listed as (0, 0). These records should not factor in your calculation.[5]   "
      ],
      "metadata": {
        "id": "BXB-59ZEYqcp"
      }
    },
    {
      "cell_type": "code",
      "source": [
        "data[['Lat', 'Lon']] = data['Location'].str.strip('()').str.split(', ', expand=True).astype(float)\n",
        "\n",
        "data = data.drop('Location', axis=1)"
      ],
      "metadata": {
        "id": "f7LKMGX7YyQi"
      },
      "execution_count": null,
      "outputs": []
    },
    {
      "cell_type": "code",
      "source": [
        "data.head()"
      ],
      "metadata": {
        "colab": {
          "base_uri": "https://localhost:8080/",
          "height": 409
        },
        "id": "W0YhuxpGZhza",
        "outputId": "9c0aa206-24a4-4162-feaf-40426f5e106c"
      },
      "execution_count": null,
      "outputs": [
        {
          "output_type": "execute_result",
          "data": {
            "text/plain": [
              "   Report ID Arrest Date    Time  Area ID  Area Name  Reporting District  \\\n",
              "0    4248313  2015-02-24  1310.0     20.0    Olympic              2022.0   \n",
              "1  191811472  2019-05-03  1700.0     18.0  Southeast              1802.0   \n",
              "2    4254777  2015-02-26  2010.0     19.0    Mission              1985.0   \n",
              "3    5614161  2019-04-29  1040.0      8.0    West LA               842.0   \n",
              "4    5615197  2019-04-30   615.0      6.0  Hollywood               663.0   \n",
              "\n",
              "    Age Sex Code Descent Code  Charge Group Code Charge Group Description  \\\n",
              "0  37.0        M            H                5.0                 Burglary   \n",
              "1  23.0        F            B                NaN                      NaN   \n",
              "2  22.0        M            H                6.0                  Larceny   \n",
              "3  41.0        M            H                3.0                  Robbery   \n",
              "4  27.0        M            O                5.0                 Burglary   \n",
              "\n",
              "  Arrest Type Code     Charge Charge Description  \\\n",
              "0                F      459PC           BURGLARY   \n",
              "1                M  653.22 PC                NaN   \n",
              "2                M    459.5PC        SHOPLIFTING   \n",
              "3                F      211PC            ROBBERY   \n",
              "4                F      459PC           BURGLARY   \n",
              "\n",
              "                                    Address Cross Street  Year      Lat  \\\n",
              "0                                       5TH       WILTON  2015  34.0653   \n",
              "1                                      91ST     FIGUEROA  2019  33.9543   \n",
              "2   8300    VAN NUYS                     BL          NaN  2015  34.2216   \n",
              "3  11600    WILSHIRE                     BL          NaN  2019  34.0508   \n",
              "4                                   LA BREA    LEXINGTON  2019  34.0907   \n",
              "\n",
              "        Lon  \n",
              "0 -118.3140  \n",
              "1 -118.2827  \n",
              "2 -118.4488  \n",
              "3 -118.4592  \n",
              "4 -118.3384  "
            ],
            "text/html": [
              "\n",
              "  <div id=\"df-eba9e3ea-f902-4982-b1a5-bff590160290\">\n",
              "    <div class=\"colab-df-container\">\n",
              "      <div>\n",
              "<style scoped>\n",
              "    .dataframe tbody tr th:only-of-type {\n",
              "        vertical-align: middle;\n",
              "    }\n",
              "\n",
              "    .dataframe tbody tr th {\n",
              "        vertical-align: top;\n",
              "    }\n",
              "\n",
              "    .dataframe thead th {\n",
              "        text-align: right;\n",
              "    }\n",
              "</style>\n",
              "<table border=\"1\" class=\"dataframe\">\n",
              "  <thead>\n",
              "    <tr style=\"text-align: right;\">\n",
              "      <th></th>\n",
              "      <th>Report ID</th>\n",
              "      <th>Arrest Date</th>\n",
              "      <th>Time</th>\n",
              "      <th>Area ID</th>\n",
              "      <th>Area Name</th>\n",
              "      <th>Reporting District</th>\n",
              "      <th>Age</th>\n",
              "      <th>Sex Code</th>\n",
              "      <th>Descent Code</th>\n",
              "      <th>Charge Group Code</th>\n",
              "      <th>Charge Group Description</th>\n",
              "      <th>Arrest Type Code</th>\n",
              "      <th>Charge</th>\n",
              "      <th>Charge Description</th>\n",
              "      <th>Address</th>\n",
              "      <th>Cross Street</th>\n",
              "      <th>Year</th>\n",
              "      <th>Lat</th>\n",
              "      <th>Lon</th>\n",
              "    </tr>\n",
              "  </thead>\n",
              "  <tbody>\n",
              "    <tr>\n",
              "      <th>0</th>\n",
              "      <td>4248313</td>\n",
              "      <td>2015-02-24</td>\n",
              "      <td>1310.0</td>\n",
              "      <td>20.0</td>\n",
              "      <td>Olympic</td>\n",
              "      <td>2022.0</td>\n",
              "      <td>37.0</td>\n",
              "      <td>M</td>\n",
              "      <td>H</td>\n",
              "      <td>5.0</td>\n",
              "      <td>Burglary</td>\n",
              "      <td>F</td>\n",
              "      <td>459PC</td>\n",
              "      <td>BURGLARY</td>\n",
              "      <td>5TH</td>\n",
              "      <td>WILTON</td>\n",
              "      <td>2015</td>\n",
              "      <td>34.0653</td>\n",
              "      <td>-118.3140</td>\n",
              "    </tr>\n",
              "    <tr>\n",
              "      <th>1</th>\n",
              "      <td>191811472</td>\n",
              "      <td>2019-05-03</td>\n",
              "      <td>1700.0</td>\n",
              "      <td>18.0</td>\n",
              "      <td>Southeast</td>\n",
              "      <td>1802.0</td>\n",
              "      <td>23.0</td>\n",
              "      <td>F</td>\n",
              "      <td>B</td>\n",
              "      <td>NaN</td>\n",
              "      <td>NaN</td>\n",
              "      <td>M</td>\n",
              "      <td>653.22 PC</td>\n",
              "      <td>NaN</td>\n",
              "      <td>91ST</td>\n",
              "      <td>FIGUEROA</td>\n",
              "      <td>2019</td>\n",
              "      <td>33.9543</td>\n",
              "      <td>-118.2827</td>\n",
              "    </tr>\n",
              "    <tr>\n",
              "      <th>2</th>\n",
              "      <td>4254777</td>\n",
              "      <td>2015-02-26</td>\n",
              "      <td>2010.0</td>\n",
              "      <td>19.0</td>\n",
              "      <td>Mission</td>\n",
              "      <td>1985.0</td>\n",
              "      <td>22.0</td>\n",
              "      <td>M</td>\n",
              "      <td>H</td>\n",
              "      <td>6.0</td>\n",
              "      <td>Larceny</td>\n",
              "      <td>M</td>\n",
              "      <td>459.5PC</td>\n",
              "      <td>SHOPLIFTING</td>\n",
              "      <td>8300    VAN NUYS                     BL</td>\n",
              "      <td>NaN</td>\n",
              "      <td>2015</td>\n",
              "      <td>34.2216</td>\n",
              "      <td>-118.4488</td>\n",
              "    </tr>\n",
              "    <tr>\n",
              "      <th>3</th>\n",
              "      <td>5614161</td>\n",
              "      <td>2019-04-29</td>\n",
              "      <td>1040.0</td>\n",
              "      <td>8.0</td>\n",
              "      <td>West LA</td>\n",
              "      <td>842.0</td>\n",
              "      <td>41.0</td>\n",
              "      <td>M</td>\n",
              "      <td>H</td>\n",
              "      <td>3.0</td>\n",
              "      <td>Robbery</td>\n",
              "      <td>F</td>\n",
              "      <td>211PC</td>\n",
              "      <td>ROBBERY</td>\n",
              "      <td>11600    WILSHIRE                     BL</td>\n",
              "      <td>NaN</td>\n",
              "      <td>2019</td>\n",
              "      <td>34.0508</td>\n",
              "      <td>-118.4592</td>\n",
              "    </tr>\n",
              "    <tr>\n",
              "      <th>4</th>\n",
              "      <td>5615197</td>\n",
              "      <td>2019-04-30</td>\n",
              "      <td>615.0</td>\n",
              "      <td>6.0</td>\n",
              "      <td>Hollywood</td>\n",
              "      <td>663.0</td>\n",
              "      <td>27.0</td>\n",
              "      <td>M</td>\n",
              "      <td>O</td>\n",
              "      <td>5.0</td>\n",
              "      <td>Burglary</td>\n",
              "      <td>F</td>\n",
              "      <td>459PC</td>\n",
              "      <td>BURGLARY</td>\n",
              "      <td>LA BREA</td>\n",
              "      <td>LEXINGTON</td>\n",
              "      <td>2019</td>\n",
              "      <td>34.0907</td>\n",
              "      <td>-118.3384</td>\n",
              "    </tr>\n",
              "  </tbody>\n",
              "</table>\n",
              "</div>\n",
              "      <button class=\"colab-df-convert\" onclick=\"convertToInteractive('df-eba9e3ea-f902-4982-b1a5-bff590160290')\"\n",
              "              title=\"Convert this dataframe to an interactive table.\"\n",
              "              style=\"display:none;\">\n",
              "        \n",
              "  <svg xmlns=\"http://www.w3.org/2000/svg\" height=\"24px\"viewBox=\"0 0 24 24\"\n",
              "       width=\"24px\">\n",
              "    <path d=\"M0 0h24v24H0V0z\" fill=\"none\"/>\n",
              "    <path d=\"M18.56 5.44l.94 2.06.94-2.06 2.06-.94-2.06-.94-.94-2.06-.94 2.06-2.06.94zm-11 1L8.5 8.5l.94-2.06 2.06-.94-2.06-.94L8.5 2.5l-.94 2.06-2.06.94zm10 10l.94 2.06.94-2.06 2.06-.94-2.06-.94-.94-2.06-.94 2.06-2.06.94z\"/><path d=\"M17.41 7.96l-1.37-1.37c-.4-.4-.92-.59-1.43-.59-.52 0-1.04.2-1.43.59L10.3 9.45l-7.72 7.72c-.78.78-.78 2.05 0 2.83L4 21.41c.39.39.9.59 1.41.59.51 0 1.02-.2 1.41-.59l7.78-7.78 2.81-2.81c.8-.78.8-2.07 0-2.86zM5.41 20L4 18.59l7.72-7.72 1.47 1.35L5.41 20z\"/>\n",
              "  </svg>\n",
              "      </button>\n",
              "      \n",
              "  <style>\n",
              "    .colab-df-container {\n",
              "      display:flex;\n",
              "      flex-wrap:wrap;\n",
              "      gap: 12px;\n",
              "    }\n",
              "\n",
              "    .colab-df-convert {\n",
              "      background-color: #E8F0FE;\n",
              "      border: none;\n",
              "      border-radius: 50%;\n",
              "      cursor: pointer;\n",
              "      display: none;\n",
              "      fill: #1967D2;\n",
              "      height: 32px;\n",
              "      padding: 0 0 0 0;\n",
              "      width: 32px;\n",
              "    }\n",
              "\n",
              "    .colab-df-convert:hover {\n",
              "      background-color: #E2EBFA;\n",
              "      box-shadow: 0px 1px 2px rgba(60, 64, 67, 0.3), 0px 1px 3px 1px rgba(60, 64, 67, 0.15);\n",
              "      fill: #174EA6;\n",
              "    }\n",
              "\n",
              "    [theme=dark] .colab-df-convert {\n",
              "      background-color: #3B4455;\n",
              "      fill: #D2E3FC;\n",
              "    }\n",
              "\n",
              "    [theme=dark] .colab-df-convert:hover {\n",
              "      background-color: #434B5C;\n",
              "      box-shadow: 0px 1px 3px 1px rgba(0, 0, 0, 0.15);\n",
              "      filter: drop-shadow(0px 1px 2px rgba(0, 0, 0, 0.3));\n",
              "      fill: #FFFFFF;\n",
              "    }\n",
              "  </style>\n",
              "\n",
              "      <script>\n",
              "        const buttonEl =\n",
              "          document.querySelector('#df-eba9e3ea-f902-4982-b1a5-bff590160290 button.colab-df-convert');\n",
              "        buttonEl.style.display =\n",
              "          google.colab.kernel.accessAllowed ? 'block' : 'none';\n",
              "\n",
              "        async function convertToInteractive(key) {\n",
              "          const element = document.querySelector('#df-eba9e3ea-f902-4982-b1a5-bff590160290');\n",
              "          const dataTable =\n",
              "            await google.colab.kernel.invokeFunction('convertToInteractive',\n",
              "                                                     [key], {});\n",
              "          if (!dataTable) return;\n",
              "\n",
              "          const docLinkHtml = 'Like what you see? Visit the ' +\n",
              "            '<a target=\"_blank\" href=https://colab.research.google.com/notebooks/data_table.ipynb>data table notebook</a>'\n",
              "            + ' to learn more about interactive tables.';\n",
              "          element.innerHTML = '';\n",
              "          dataTable['output_type'] = 'display_data';\n",
              "          await google.colab.output.renderOutput(dataTable, element);\n",
              "          const docLink = document.createElement('div');\n",
              "          docLink.innerHTML = docLinkHtml;\n",
              "          element.appendChild(docLink);\n",
              "        }\n",
              "      </script>\n",
              "    </div>\n",
              "  </div>\n",
              "  "
            ]
          },
          "metadata": {},
          "execution_count": 14
        }
      ]
    },
    {
      "cell_type": "code",
      "source": [
        "from geopy.distance import geodesic\n",
        "bradbury_coords = (34.050536, -118.247861)\n",
        "df_2018 = data[(data['Year'] ==\"2018\") & (data['Lat'] != 0.0) & (data['Lon'] != 0.0)]\n",
        "df_2018 = df_2018.dropna(subset=['Lat', 'Lon'])\n",
        "\n",
        "def calculate_distance(row):\n",
        "    arrest_coords = (row['Lat'], row['Lon'])\n",
        "    return geodesic(bradbury_coords, arrest_coords).km\n",
        "\n",
        "df_2018['Distance'] = df_2018.apply(calculate_distance, axis=1)\n",
        "\n",
        "\n",
        "num_arrests_within_2km = len(df_2018[df_2018['Distance'] <= 2])\n",
        "\n",
        "\n",
        "print(\"Number of Arrest Incidents within 2 km of the Bradbury Building in 2018:\", num_arrests_within_2km)"
      ],
      "metadata": {
        "colab": {
          "base_uri": "https://localhost:8080/"
        },
        "id": "XQECthXkZqu1",
        "outputId": "185ad6e7-6846-42e8-f086-3e1eb067f25c"
      },
      "execution_count": null,
      "outputs": [
        {
          "output_type": "stream",
          "name": "stdout",
          "text": [
            "Number of Arrest Incidents within 2 km of the Bradbury Building in 2018: 5913\n"
          ]
        }
      ]
    }
  ]
}